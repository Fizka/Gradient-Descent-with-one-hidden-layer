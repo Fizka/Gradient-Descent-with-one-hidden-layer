{
 "cells": [
  {
   "cell_type": "markdown",
   "metadata": {},
   "source": [
    "data is divided to into target set and data set. Weights are created randomly by np.random().rand() function. "
   ]
  },
  {
   "cell_type": "code",
   "execution_count": 97,
   "metadata": {},
   "outputs": [],
   "source": [
    "import numpy as np\n",
    "import pandas as pd\n",
    "\n",
    "data=[[0.08,0.72],\n",
    "      [0.01,1.00],\n",
    "      [0.26,0.58],\n",
    "      [0.35,0.95],\n",
    "      [0.45,0.15],\n",
    "      [0.60,0.30],\n",
    "      [0.70,0.65],\n",
    "      [0.92,0.45]]\n",
    "\n",
    "target =[1.0, 0.0, 1.0, 0.0, 1.0, 1.0, 0.0, 0.0]\n",
    "\n",
    "wei=[np.random.rand(), np.random.rand(), np.random.rand(), np.random.rand(), np.random.rand(), np.random.rand()]\n",
    "bias = 0.20"
   ]
  },
  {
   "cell_type": "code",
   "execution_count": 98,
   "metadata": {},
   "outputs": [],
   "source": [
    "\n",
    "import numpy as np\n",
    "import pandas as pd\n",
    "\n",
    "def sigmoid(x):\n",
    "    return 1/(1 + np.exp(-(x)))\n",
    "     \n",
    "def loss(pred, target):\n",
    "    return (pred - target)**2\n",
    "    \n",
    "def derivative_Sigmoid(x):\n",
    "    return sigmoid(x) * (1 - sigmoid(x))\n",
    "    \n",
    "def derivative_loss(pred, target):\n",
    "    return 2*(pred - target)\n",
    "\n",
    "def predict(data, weights, threshold = 0.5, bias = 0.20):\n",
    "    pred = sum(np.array(data) * np.array(weights))\n",
    "    return 1.0 if sigmoid(pred) + bias >= threshold else 0.0\n",
    "\n",
    "def accuracy(target, predictions, threshold = 0.0):\n",
    "    correct_pred=0.0\n",
    "\n",
    "    for i in range(len(predictions)):\n",
    "        if predictions[i]==target[i]:\n",
    "            correct_pred += 1.0\n",
    "    \n",
    "    return correct_pred/len(predictions)\n",
    "\n",
    "def getAccurancy(data, weights, target, logs = False):\n",
    "    h = []\n",
    "    for x in range(len(data)):            \n",
    "        h1 = 0.0\n",
    "        h2 = 0.0\n",
    "\n",
    "        for j in range (2):\n",
    "            h1 += data[x][j] * np.array(weights[j])\n",
    "            h2 += data[x][j] * np.array(weights[j*2])\n",
    "        h.append([sigmoid(h1), sigmoid(h2)])\n",
    "\n",
    "    predictions = [predict(np.array([h[i][0], h[i][1]]).T, weights[4:6]) for i in range(len(data))]\n",
    "    if logs:\n",
    "        print(\"predictions: \" + str(predictions))\n",
    "        print(\"target: \" + str(target))\n",
    "    current_acc = accuracy(target,  predictions)\n",
    "    if logs:\n",
    "        print(\"accuracy: \" + str(current_acc))\n",
    "    return current_acc\n",
    "\n",
    "def train(data, target, weights, epochs=100, stop=True, alpha = 0.001, logs = False):\n",
    "    \n",
    "    for epoch in range(epochs):\n",
    "        if logs:\n",
    "            print(\"\\n\")\n",
    "            print(\"Epoch: \" + str(epoch))\n",
    "        \n",
    "        current_acc = getAccurancy(data, weights, target)\n",
    "        \n",
    "        if current_acc == 1 and stop:\n",
    "            print(\"accuracy is 1 - training stoped on epoch: \" + str(epoch))\n",
    "            break\n",
    "        \n",
    "        for x in range(len(data)):           \n",
    "            h1 = 0.0\n",
    "            h2 = 0.0\n",
    "\n",
    "            for j in range (2):\n",
    "                h1 += data[x][j] * np.array(weights[j])\n",
    "                h2 += data[x][j] * np.array(weights[j*2])\n",
    "            \n",
    "            if logs:\n",
    "                print(\"h 1: \" + str(h1))\n",
    "                print(\"h 2: \" + str(h2))\n",
    "\n",
    "            a1 = sigmoid(h1)\n",
    "            a2 = sigmoid(h2)\n",
    "            \n",
    "            if logs:\n",
    "                print(\"a 1: \" + str(a1))\n",
    "                print(\"a 2: \" + str(a2))\n",
    "\n",
    "            predicted = predict([a1,a2], weights[4:6])\n",
    "\n",
    "            h3 = a1*weights[4] + a2*weights[5] \n",
    "            a3 = sigmoid(h3)\n",
    "            a = [a1,a2]\n",
    "\n",
    "            loss_ = loss(target[x], predicted)\n",
    "            if logs:\n",
    "                print(\"The loss is \" + str(loss_))\n",
    "            \n",
    "            for j in range (4, 6):    \n",
    "                weights[j] -= alpha * derivative_loss(predicted, target[x]) * derivative_Sigmoid(h3) * a[j - 4]\n",
    "                if logs:\n",
    "                    print(\"Updated weight number \" + str(j) + \" : \" + str(weights[j]))\n",
    "            \n",
    "            for j in range(2):\n",
    "                weights[j] -= alpha * derivative_loss(predicted, target[x]) * derivative_Sigmoid(sum(np.array(target[x]) * np.array(weights[0:1]))) * weights[4] * derivative_Sigmoid(h1) * data[x][j]\n",
    "                if logs:\n",
    "                    print(\"Updated weight number \" + str(j) + \" : \" + str(weights[j]))\n",
    "                \n",
    "            for j in range(2, 4):               \n",
    "                weights[j] -= alpha * derivative_loss(predicted, target[x]) * derivative_Sigmoid(sum(np.array(target[x]) * np.array(weights[2:3]))) * weights[5] * derivative_Sigmoid(h2) * data[x][j-2]\n",
    "                if logs:\n",
    "                    print(\"Updated weight number \" + str(j) + \" : \" + str(weights[j]))\n",
    "                \n",
    "    return weights, current_acc"
   ]
  },
  {
   "cell_type": "markdown",
   "metadata": {},
   "source": [
    "# TESTING \n",
    "\n",
    "parametrs that will be different: epochs number and alpha value"
   ]
  },
  {
   "cell_type": "code",
   "execution_count": 99,
   "metadata": {},
   "outputs": [
    {
     "name": "stdout",
     "output_type": "stream",
     "text": [
      "accuracy is 1 - training stoped on epoch: 17622\n"
     ]
    }
   ],
   "source": [
    "new_weights1, acc1 = train(data, target, wei.copy(), epochs=100000, alpha = 0.001)"
   ]
  },
  {
   "cell_type": "code",
   "execution_count": 100,
   "metadata": {},
   "outputs": [
    {
     "name": "stdout",
     "output_type": "stream",
     "text": [
      "accuracy is : 1.0\n"
     ]
    }
   ],
   "source": [
    "print(\"accuracy is : \" + str(acc1))"
   ]
  },
  {
   "cell_type": "code",
   "execution_count": 101,
   "metadata": {},
   "outputs": [
    {
     "data": {
      "text/plain": [
       "[0.428635743138454,\n",
       " 0.9541746668946909,\n",
       " -0.5080322054855881,\n",
       " 1.7484775058344317,\n",
       " -0.892666832319297,\n",
       " -0.5370453223168727]"
      ]
     },
     "execution_count": 101,
     "metadata": {},
     "output_type": "execute_result"
    }
   ],
   "source": [
    "new_weights1"
   ]
  },
  {
   "cell_type": "code",
   "execution_count": 102,
   "metadata": {},
   "outputs": [
    {
     "name": "stdout",
     "output_type": "stream",
     "text": [
      "accuracy is 1 - training stoped on epoch: 1771\n"
     ]
    }
   ],
   "source": [
    "new_weights2, acc2 = train(data, target, wei.copy(), epochs=100000, alpha = 0.01)"
   ]
  },
  {
   "cell_type": "code",
   "execution_count": 103,
   "metadata": {},
   "outputs": [
    {
     "name": "stdout",
     "output_type": "stream",
     "text": [
      "accuracy is : 1.0\n"
     ]
    }
   ],
   "source": [
    "print(\"accuracy is : \" + str(acc2))"
   ]
  },
  {
   "cell_type": "code",
   "execution_count": 104,
   "metadata": {},
   "outputs": [
    {
     "data": {
      "text/plain": [
       "[0.42623011298519425,\n",
       " 0.9612122474774244,\n",
       " -0.5095117165693126,\n",
       " 1.7542663811532158,\n",
       " -0.8965541611057318,\n",
       " -0.5323272200752118]"
      ]
     },
     "execution_count": 104,
     "metadata": {},
     "output_type": "execute_result"
    }
   ],
   "source": [
    "new_weights2"
   ]
  },
  {
   "cell_type": "code",
   "execution_count": 105,
   "metadata": {},
   "outputs": [],
   "source": [
    "new_weights3, acc3 = train(data, target, wei.copy(), epochs=100, alpha = 0.001)"
   ]
  },
  {
   "cell_type": "code",
   "execution_count": 106,
   "metadata": {},
   "outputs": [
    {
     "name": "stdout",
     "output_type": "stream",
     "text": [
      "accuracy is : 0.5\n"
     ]
    }
   ],
   "source": [
    "print(\"accuracy is : \" + str(acc3))"
   ]
  },
  {
   "cell_type": "code",
   "execution_count": 107,
   "metadata": {},
   "outputs": [
    {
     "data": {
      "text/plain": [
       "[0.978308580056251,\n",
       " 0.021104573879937406,\n",
       " 0.3056060318555784,\n",
       " 0.30292838121304866,\n",
       " 0.45925945680110186,\n",
       " 0.14806835435428847]"
      ]
     },
     "execution_count": 107,
     "metadata": {},
     "output_type": "execute_result"
    }
   ],
   "source": [
    "new_weights3"
   ]
  },
  {
   "cell_type": "code",
   "execution_count": 108,
   "metadata": {},
   "outputs": [],
   "source": [
    "new_weights4, acc4 = train(data, target, wei.copy(), epochs=10000, alpha = 0.001)"
   ]
  },
  {
   "cell_type": "code",
   "execution_count": 109,
   "metadata": {},
   "outputs": [
    {
     "name": "stdout",
     "output_type": "stream",
     "text": [
      "accuracy is : 0.625\n"
     ]
    }
   ],
   "source": [
    "print(\"accuracy is : \" + str(acc4))"
   ]
  },
  {
   "cell_type": "code",
   "execution_count": 110,
   "metadata": {},
   "outputs": [
    {
     "data": {
      "text/plain": [
       "[0.7529754896387558,\n",
       " 0.5037176239704564,\n",
       " -0.14596138507302842,\n",
       " 1.247899412029002,\n",
       " -0.5784951831686064,\n",
       " -0.8568183290485542]"
      ]
     },
     "execution_count": 110,
     "metadata": {},
     "output_type": "execute_result"
    }
   ],
   "source": [
    "new_weights4"
   ]
  },
  {
   "cell_type": "code",
   "execution_count": 111,
   "metadata": {},
   "outputs": [],
   "source": [
    "new_weights5, acc5 = train(data, target, wei.copy(), epochs=1000, alpha = 0.01)"
   ]
  },
  {
   "cell_type": "code",
   "execution_count": 112,
   "metadata": {},
   "outputs": [
    {
     "name": "stdout",
     "output_type": "stream",
     "text": [
      "accuracy is : 0.625\n"
     ]
    }
   ],
   "source": [
    "print(\"accuracy is : \" + str(acc5))"
   ]
  },
  {
   "cell_type": "code",
   "execution_count": 113,
   "metadata": {},
   "outputs": [
    {
     "data": {
      "text/plain": [
       "[0.7542120653274291,\n",
       " 0.5050785502488463,\n",
       " -0.14515341667077702,\n",
       " 1.2495464773250171,\n",
       " -0.577372942720162,\n",
       " -0.855772419322054]"
      ]
     },
     "execution_count": 113,
     "metadata": {},
     "output_type": "execute_result"
    }
   ],
   "source": [
    "new_weights5"
   ]
  },
  {
   "cell_type": "code",
   "execution_count": null,
   "metadata": {},
   "outputs": [],
   "source": []
  }
 ],
 "metadata": {
  "kernelspec": {
   "display_name": "Python 3",
   "language": "python",
   "name": "python3"
  },
  "language_info": {
   "codemirror_mode": {
    "name": "ipython",
    "version": 3
   },
   "file_extension": ".py",
   "mimetype": "text/x-python",
   "name": "python",
   "nbconvert_exporter": "python",
   "pygments_lexer": "ipython3",
   "version": "3.8.5"
  }
 },
 "nbformat": 4,
 "nbformat_minor": 4
}
